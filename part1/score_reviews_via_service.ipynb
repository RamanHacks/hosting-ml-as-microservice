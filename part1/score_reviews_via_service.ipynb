{
  "nbformat": 4,
  "nbformat_minor": 0,
  "metadata": {
    "anaconda-cloud": {},
    "kernelspec": {
      "display_name": "Python 3.7.9 64-bit ('fsmlp-1': conda)",
      "language": "python",
      "name": "python37964bitfsmlp1conda17f0a85c4b874d8190567c294dfb14e7"
    },
    "language_info": {
      "codemirror_mode": {
        "name": "ipython",
        "version": 2
      },
      "file_extension": ".py",
      "mimetype": "text/x-python",
      "name": "python",
      "nbconvert_exporter": "python",
      "pygments_lexer": "ipython2",
      "version": "3.7.9-final"
    },
    "pycharm": {
      "stem_cell": {
        "cell_type": "raw",
        "metadata": {
          "collapsed": false
        },
        "source": []
      }
    },
    "colab": {
      "name": "score_reviews_via_service.ipynb",
      "provenance": []
    }
  },
  "cells": [
    {
      "cell_type": "markdown",
      "metadata": {
        "id": "24yCLLjstPjb",
        "colab_type": "text"
      },
      "source": [
        "## Part 1: Existing Machine Learning Services\n",
        "\n",
        "<a href=\"https://colab.research.google.com/github/peckjon/hosting-ml-as-microservice/blob/master/part1/score_reviews_via_service.ipynb\" target=\"_parent\"><img src=\"https://colab.research.google.com/assets/colab-badge.svg\" alt=\"Open In Colab\"/></a>"
      ]
    },
    {
      "cell_type": "markdown",
      "metadata": {
        "id": "jwR4_2_otPjg",
        "colab_type": "text"
      },
      "source": [
        "### Obtain labelled reviews\n",
        "\n",
        "In order to test any of the sentiment analysis APIs, we need a labelled dataset of reviews and their sentiment polarity. We'll use NLTK to download the movie_reviews corpus."
      ]
    },
    {
      "cell_type": "code",
      "metadata": {
        "pycharm": {
          "name": "#%%\n"
        },
        "id": "zPOhVzNrtPjj",
        "colab_type": "code",
        "colab": {}
      },
      "source": [
        "from nltk import download\n",
        "from google.cloud import language_v1\n",
        "\n",
        "download('movie_reviews')"
      ],
      "execution_count": 1,
      "outputs": [
        {
          "output_type": "stream",
          "name": "stderr",
          "text": [
            "[nltk_data] Downloading package movie_reviews to\n[nltk_data]     /home/local0/nltk_data...\n[nltk_data]   Package movie_reviews is already up-to-date!\n"
          ]
        },
        {
          "output_type": "execute_result",
          "data": {
            "text/plain": [
              "True"
            ]
          },
          "metadata": {},
          "execution_count": 1
        }
      ]
    },
    {
      "cell_type": "markdown",
      "metadata": {
        "id": "zPd-EWKptPjw",
        "colab_type": "text"
      },
      "source": [
        "### Load the data\n",
        "\n",
        "The files in movie_reviews have already been divided into two sets: positive ('pos') and negative ('neg'), so we can load the raw text of the reviews into two lists, one for each polarity."
      ]
    },
    {
      "cell_type": "code",
      "metadata": {
        "id": "DuuqNmcmtPjy",
        "colab_type": "code",
        "colab": {}
      },
      "source": [
        "from nltk.corpus import movie_reviews\n",
        "\n",
        "# extract words from reviews, pair with label\n",
        "\n",
        "reviews_pos = []\n",
        "for fileid in movie_reviews.fileids('pos'):\n",
        "    review = movie_reviews.raw(fileid)\n",
        "    reviews_pos.append(review)\n",
        "\n",
        "reviews_neg = []\n",
        "for fileid in movie_reviews.fileids('neg'):\n",
        "    review = movie_reviews.raw(fileid)\n",
        "    reviews_neg.append(review)"
      ],
      "execution_count": 41,
      "outputs": []
    },
    {
      "cell_type": "markdown",
      "metadata": {
        "id": "TMy_1Mg4tPj-",
        "colab_type": "text"
      },
      "source": [
        "### Connect to the scoring API\n",
        "\n",
        "Fill in this function with code that connects to one of these APIs, and uses it to score a single review:\n",
        "\n",
        "* [Amazon Comprehend: Detect Sentiment](https://docs.aws.amazon.com/comprehend/latest/dg/API_DetectSentiment.html)\n",
        "* [Google Natural Language: Analyzing Sentiment](https://cloud.google.com/natural-language/docs/analyzing-sentiment)\n",
        "* [Azure Cognitive Services: Sentiment Analysis](https://docs.microsoft.com/en-us/azure/cognitive-services/text-analytics/how-tos/text-analytics-how-to-sentiment-analysis)\n",
        "* [Algorithmia: Sentiment Analysis](https://algorithmia.com/algorithms/nlp/SentimentAnalysis)\n",
        "\n",
        "Your function must return either 'pos' or 'neg', so you'll need to make some decisions about how to map the results of the API call to one of these values. For example, Amazon Comprehend can return \"NEUTRAL\" or \"MIXED\" for the Sentiment -- if this happens, you may with to inspect the numeric values under the SentimentScore to see whether it leans toward positive or negative.\n"
      ]
    },
    {
      "cell_type": "code",
      "execution_count": 42,
      "metadata": {},
      "outputs": [],
      "source": [
        "def score_review(review):\n",
        "    client = language_v1.LanguageServiceClient.from_service_account_json('/home/local0/Downloads/storybooks-79801ac50bb2.json')\n",
        "    document = language_v1.Document(content=review, type_=language_v1.Document.Type.PLAIN_TEXT)\n",
        "    annotations = client.analyze_sentiment(request={'document': document})\n",
        "    score = annotations.document_sentiment.score\n",
        "    magnitude = annotations.document_sentiment.magnitude\n",
        "    print(\n",
        "        \"Overall Sentiment: score of {} with magnitude of {}\".format(score, magnitude)\n",
        "    )\n",
        "    if score>-0.1:\n",
        "        return 'pos'\n",
        "    else:\n",
        "        return 'neg'"
      ]
    },
    {
      "cell_type": "markdown",
      "metadata": {
        "id": "egteKGkJtPkL",
        "colab_type": "text"
      },
      "source": [
        "### Score each review\n",
        "\n",
        "Now, we can use the function you defined to score each of the reviews.\n",
        "\n",
        "#### *Note on Testing*\n",
        "\n",
        "While most of the services listed have free tiers they may be limited to a few thousand requests per week or month, depending on the service. On some platforms you may be billed after reaching that limit. For this reason it is recommended to first test on a smaller set of the reviews, `subset_pos` and `subset_neg`. Once you're happy with your code swap those subsets for the full review sets `reviews_pos` and `reviews_neg`."
      ]
    },
    {
      "cell_type": "code",
      "metadata": {
        "id": "mWkdNH_ktPkN",
        "colab_type": "code",
        "colab": {}
      },
      "source": [
        "# Create 2 smaller subsets for testing\n",
        "subset_pos = reviews_pos[:10]\n",
        "subset_neg = reviews_neg[:10]\n",
        "\n",
        "results_pos = []\n",
        "# When comfortable with results switch `subset_pos` to reviews_post`\n",
        "for review in subset_pos:\n",
        "    result = score_review(review)\n",
        "    results_pos.append(result)\n",
        "\n",
        "results_neg = []\n",
        "# When comfortable with results switch `subset_neg` to reviews_neg`\n",
        "for review in subset_neg:\n",
        "    result = score_review(review)\n",
        "    results_neg.append(result)"
      ],
      "execution_count": 43,
      "outputs": [
        {
          "output_type": "stream",
          "name": "stdout",
          "text": [
            "Overall Sentiment: score of -0.10000000149011612 with magnitude of 10.399999618530273\n",
            "Overall Sentiment: score of 0.0 with magnitude of 18.200000762939453\n",
            "Overall Sentiment: score of 0.0 with magnitude of 10.100000381469727\n",
            "Overall Sentiment: score of 0.0 with magnitude of 13.399999618530273\n",
            "Overall Sentiment: score of 0.0 with magnitude of 8.100000381469727\n",
            "Overall Sentiment: score of 0.0 with magnitude of 14.100000381469727\n",
            "Overall Sentiment: score of 0.0 with magnitude of 16.200000762939453\n",
            "Overall Sentiment: score of 0.10000000149011612 with magnitude of 14.800000190734863\n",
            "Overall Sentiment: score of -0.10000000149011612 with magnitude of 7.199999809265137\n",
            "Overall Sentiment: score of 0.0 with magnitude of 6.300000190734863\n",
            "Overall Sentiment: score of -0.30000001192092896 with magnitude of 15.5\n",
            "Overall Sentiment: score of -0.30000001192092896 with magnitude of 4.400000095367432\n",
            "Overall Sentiment: score of -0.20000000298023224 with magnitude of 12.699999809265137\n",
            "Overall Sentiment: score of -0.10000000149011612 with magnitude of 9.300000190734863\n",
            "Overall Sentiment: score of -0.30000001192092896 with magnitude of 15.300000190734863\n",
            "Overall Sentiment: score of -0.20000000298023224 with magnitude of 15.100000381469727\n",
            "Overall Sentiment: score of -0.30000001192092896 with magnitude of 15.100000381469727\n",
            "Overall Sentiment: score of -0.30000001192092896 with magnitude of 13.699999809265137\n",
            "Overall Sentiment: score of -0.20000000298023224 with magnitude of 15.600000381469727\n",
            "Overall Sentiment: score of -0.30000001192092896 with magnitude of 19.200000762939453\n"
          ]
        }
      ]
    },
    {
      "cell_type": "markdown",
      "metadata": {
        "id": "X7W95r2BtPkf",
        "colab_type": "text"
      },
      "source": [
        "### Calculate accuracy\n",
        "\n",
        "For each of our known positive reviews, we can count the number which our function scored as 'pos', and use this to calculate the % accuracy. We repeaty this for negative reviews, and also for overall accuracy."
      ]
    },
    {
      "cell_type": "code",
      "metadata": {
        "id": "Ft71Rv6-tPkh",
        "colab_type": "code",
        "colab": {}
      },
      "source": [
        "correct_pos = results_pos.count('pos')\n",
        "accuracy_pos = float(correct_pos) / len(results_pos)\n",
        "correct_neg = results_neg.count('neg')\n",
        "accuracy_neg = float(correct_neg) / len(results_neg)\n",
        "correct_all = correct_pos + correct_neg\n",
        "accuracy_all = float(correct_all) / (len(results_pos)+len(results_neg))\n",
        "\n",
        "print('Positive reviews: {}% correct'.format(accuracy_pos*100))\n",
        "print('Negative reviews: {}% correct'.format(accuracy_neg*100))\n",
        "print('Overall accuracy: {}% correct'.format(accuracy_all*100))"
      ],
      "execution_count": 44,
      "outputs": [
        {
          "output_type": "stream",
          "name": "stdout",
          "text": [
            "Positive reviews: 80.0% correct\nNegative reviews: 100.0% correct\nOverall accuracy: 90.0% correct\n"
          ]
        }
      ]
    }
  ]
}